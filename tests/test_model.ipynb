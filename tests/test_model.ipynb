{
 "cells": [
  {
   "cell_type": "markdown",
   "metadata": {},
   "source": [
    "### Imports"
   ]
  },
  {
   "cell_type": "code",
   "execution_count": 8,
   "metadata": {},
   "outputs": [],
   "source": [
    "import os\n",
    "import random\n",
    "import tensorflow as tf\n",
    "from pathlib import Path\n",
    "import numpy as np\n",
    "import pandas as pd\n",
    "import matplotlib.pyplot as plt"
   ]
  },
  {
   "cell_type": "code",
   "execution_count": 9,
   "metadata": {},
   "outputs": [
    {
     "name": "stdout",
     "output_type": "stream",
     "text": [
      "c:\\Users\\koens\\Documents\\GitHub\\Wound-Classification-DL\\models\\labels_cnn.csv\n"
     ]
    }
   ],
   "source": [
    "\n",
    "\n",
    "# Huidige notebook zit in /tests, dus ga 1 map omhoog\n",
    "project_root = Path.cwd().parent\n",
    "\n",
    "labels_path = project_root / \"models\" / \"labels_cnn.csv\"\n",
    "print(labels_path)\n",
    "\n"
   ]
  },
  {
   "cell_type": "code",
   "execution_count": 10,
   "metadata": {},
   "outputs": [
    {
     "name": "stdout",
     "output_type": "stream",
     "text": [
      "Labels: ['Abrasions', 'Bruises', 'Burns', 'Cut', 'Diabetic Wounds', 'Laseration', 'Normal', 'Pressure Wounds', 'Surgical Wounds', 'Venous Wounds']\n"
     ]
    }
   ],
   "source": [
    "# labels_path = r'E:\\Projects\\Wound-Classification-DL\\models\\labels_cnn.csv'\n",
    "\n",
    "labels_df = pd.read_csv(labels_path)\n",
    "\n",
    "labels = dict(zip(labels_df['Class'], labels_df['Index']))\n",
    "\n",
    "labels = list(labels.keys())\n",
    "\n",
    "print('Labels:', labels)"
   ]
  },
  {
   "cell_type": "code",
   "execution_count": null,
   "metadata": {},
   "outputs": [],
   "source": [
    "def preprocess_image(image_path, target_size=(128, 128)):\n",
    "    img = tf.keras.preprocessing.image.load_img(image_path, target_size=target_size)\n",
    "    img_array = tf.keras.preprocessing.image.img_to_array(img)\n",
    "    img_array = img_array / 255.0\n",
    "    return np.expand_dims(img_array, axis=0), img"
   ]
  },
  {
   "cell_type": "markdown",
   "metadata": {},
   "source": [
    "### Test on Validation Data"
   ]
  },
  {
   "cell_type": "code",
   "execution_count": null,
   "metadata": {},
   "outputs": [],
   "source": [
    "val_folder = r'E:\\Projects\\Wound-Classification-DL\\data\\val'\n",
    "model_path = r'E:\\Projects\\Wound-Classification-DL\\models\\best_cnn.h5'\n",
    "\n",
    "model = tf.keras.models.load_model(model_path)\n",
    "\n",
    "class_dirs = [d for d in os.listdir(val_folder) if os.path.isdir(os.path.join(val_folder, d))]\n",
    "\n",
    "for class_dir in class_dirs:\n",
    "    class_path = os.path.join(val_folder, class_dir)\n",
    "    image_files = [f for f in os.listdir(class_path) if os.path.isfile(os.path.join(class_path, f))]\n",
    "    random_image_file = random.choice(image_files)\n",
    "    image_path = os.path.join(class_path, random_image_file)\n",
    "    input_data, original_image = preprocess_image(image_path)\n",
    "    pred = model.predict(input_data)\n",
    "    predicted_idx = np.argmax(pred, axis=1)[0]\n",
    "    confidence_score = np.max(pred, axis=1)[0]\n",
    "\n",
    "    plt.figure(figsize=(10, 5))\n",
    "\n",
    "    plt.subplot(1, 2, 1)\n",
    "    plt.imshow(original_image)\n",
    "    plt.title(f'Actual: {class_dir}\\nPredicted: {labels[predicted_idx]} ({confidence_score:.2f})')\n",
    "    plt.axis('off')\n",
    "\n",
    "    plt.subplot(1, 2, 2)\n",
    "    plt.barh(range(len(pred[0])), pred[0])\n",
    "    plt.yticks(range(len(pred[0])), [labels[i] for i in range(len(pred[0]))])\n",
    "    plt.title('Confidence Distribution')\n",
    "    plt.xlabel('Confidence')\n",
    "    plt.ylabel('Classes')\n",
    "\n",
    "    plt.tight_layout()\n",
    "    plt.show()"
   ]
  },
  {
   "cell_type": "markdown",
   "metadata": {},
   "source": [
    "### Test on New Data (From Google Search)"
   ]
  },
  {
   "cell_type": "code",
   "execution_count": null,
   "metadata": {},
   "outputs": [],
   "source": [
    "test_folder = r'E:\\Projects\\Wound-Classification-DL\\data\\test'\n",
    "\n",
    "test_images = [f for f in os.listdir(test_folder) if os.path.isfile(os.path.join(test_folder, f))]\n",
    "\n",
    "for image_file in test_images:\n",
    "    image_path = os.path.join(test_folder, image_file)\n",
    "    input_data, original_image = preprocess_image(image_path)\n",
    "    pred = model.predict(input_data)\n",
    "    predicted_idx = np.argmax(pred, axis=1)[0]\n",
    "    confidence_score = np.max(pred, axis=1)[0]\n",
    "    actual_label = image_file.split('.')[0]\n",
    "\n",
    "    plt.figure(figsize=(10, 5))\n",
    "\n",
    "    plt.subplot(1, 2, 1)\n",
    "    plt.imshow(original_image)\n",
    "    plt.title(f'Actual: {actual_label}\\nPredicted: {labels[predicted_idx]} ({confidence_score:.2f})')\n",
    "    plt.axis('off')\n",
    "\n",
    "    plt.subplot(1, 2, 2)\n",
    "    plt.barh(range(len(pred[0])), pred[0])\n",
    "    plt.yticks(range(len(pred[0])), [labels[i] for i in range(len(pred[0]))])\n",
    "    plt.title('Confidence Distribution')\n",
    "    plt.xlabel('Confidence')\n",
    "    plt.ylabel('Classes')\n",
    "\n",
    "    plt.tight_layout()\n",
    "    plt.show()"
   ]
  }
 ],
 "metadata": {
  "kernelspec": {
   "display_name": "venv",
   "language": "python",
   "name": "python3"
  },
  "language_info": {
   "codemirror_mode": {
    "name": "ipython",
    "version": 3
   },
   "file_extension": ".py",
   "mimetype": "text/x-python",
   "name": "python",
   "nbconvert_exporter": "python",
   "pygments_lexer": "ipython3",
   "version": "3.9.13"
  }
 },
 "nbformat": 4,
 "nbformat_minor": 2
}
